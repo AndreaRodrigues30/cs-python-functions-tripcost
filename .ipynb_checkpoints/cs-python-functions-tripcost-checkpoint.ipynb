{
 "cells": [
  {
   "cell_type": "markdown",
   "metadata": {},
   "source": [
    "## Write a program to calculate the trip costs.\n",
    "\n",
    "a) use appropriate variable, constant and function names.\n",
    "b) don't forget to put comments in the code.\n",
    "c) In comments for each function, do mention the purpose the function, the input parameters and the return value from the function\n"
   ]
  },
  {
   "cell_type": "code",
   "execution_count": null,
   "metadata": {},
   "outputs": [],
   "source": [
    "# function name: hotel_cost\n",
    "# purpose: to calculate the hotel costs for the number of nights the user what to stay\n",
    "# input parameters:  nights - number of nights to book\n",
    "# return: returns the hotel cost for the number of nights the user wants to stay\n",
    "def hotel_cost(numNights):\n",
    "    isHotelName = False\n",
    "    while isHotelName == False:\n",
    "        print(\"1) Holiday Inn     £50 per night\"\n",
    "             \"2) Hilton           £90 per night\"\n",
    "             \"3) Marriott         £120 per night\")\n",
    "\n",
    "        # give option to the user 50 pounds/night for Holiday Inn, 90 pounds/night for Hilton and 120 pounds/night for Marriott\n",
    "        # let us the user choose from these 3 options\n",
    "        hotelName = input(\"Which hotel would you like to stay at? (1-3) \\t\")\n",
    "        numNights = int(input(\"How many nights would you like to stay for?\\t\"))\n",
    "\n",
    "        if hotelName == \"1\":\n",
    "            hotelCost = numNights * 50\n",
    "            isHotelName = True\n",
    "        elif hotelName == \"2\":\n",
    "            hotelCost = numNights * 90\n",
    "            isHotelName = True\n",
    "        elif hotelName = \"3\":\n",
    "            hotelCost = numNights * 120\n",
    "            isHotelName = True\n",
    "        else:\n",
    "            print('Sorry that is not a valid option!')\n",
    "\n",
    "        # remember to return the cost for the hotel stay\n",
    "        return hotelCost\n",
    "        return numNights\n",
    "\n",
    "\n",
    "def plane_ride_cost(city):\n",
    "    if city==\"Madrid\":\n",
    "        return 270\n",
    "    elif city==\"Paris\":\n",
    "        return 280\n",
    "    elif city==\"Berlin\":\n",
    "        return 220\n",
    "    elif city==\"Edinburgh\":\n",
    "        return 150\n",
    "\n",
    "\n",
    "# use constant names instead of numbers\n",
    "def rental_car_cost(numDays):\n",
    "    numDays= input (\"Enter days of car rental:\")\n",
    "    # fixed charge for one day is 40 pounds\n",
    "    carCost = numDays * 40\n",
    "    if numDays > 7:\n",
    "        carCost = carCost - 50# add 50 pounds discount if the car is rented for more than 7 days\n",
    "    else:\n",
    "        if numDays > 3:\n",
    "            carCost = carCost - 20# add 20 pounds discount if the car is rented for more than 3 days\n",
    "    return carCost\n",
    "\n",
    "# write other costs for the trip (food, rides, museum)\n",
    "# define your function for other costs\n",
    "def other_costs():\n",
    "\n",
    "##£10 per day for food\n",
    "##£3 per ride\n",
    "##£10 per mueseum\n",
    "\n",
    "\n",
    "# add other costs in the trip costs\n",
    "def trip_cost(city,days):\n",
    "    print(rental_car_cost(numDays)+hotel_cost(numNights)+plane_ride_cost(city))"
   ]
  },
  {
   "cell_type": "code",
   "execution_count": null,
   "metadata": {},
   "outputs": [],
   "source": [
    "# write the main program and call the functions appropriately  \n",
    "\n",
    "\n",
    "# add comments below, what are these variables used for?\n",
    "\n"
   ]
  }
 ],
 "metadata": {
  "kernelspec": {
   "display_name": "Python 3",
   "language": "python",
   "name": "python3"
  },
  "language_info": {
   "codemirror_mode": {
    "name": "ipython",
    "version": 3
   },
   "file_extension": ".py",
   "mimetype": "text/x-python",
   "name": "python",
   "nbconvert_exporter": "python",
   "pygments_lexer": "ipython3",
   "version": "3.6.6"
  }
 },
 "nbformat": 4,
 "nbformat_minor": 2
}
